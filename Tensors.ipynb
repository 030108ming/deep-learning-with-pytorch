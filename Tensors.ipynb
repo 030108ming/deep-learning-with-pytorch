{
  "nbformat": 4,
  "nbformat_minor": 0,
  "metadata": {
    "colab": {
      "provenance": [],
      "authorship_tag": "ABX9TyO0zwuRspBMQKu7eG9fojwA",
      "include_colab_link": true
    },
    "kernelspec": {
      "name": "python3",
      "display_name": "Python 3"
    },
    "language_info": {
      "name": "python"
    }
  },
  "cells": [
    {
      "cell_type": "markdown",
      "metadata": {
        "id": "view-in-github",
        "colab_type": "text"
      },
      "source": [
        "<a href=\"https://colab.research.google.com/github/030108ming/deep-learning-with-pytorch/blob/main/Tensors.ipynb\" target=\"_parent\"><img src=\"https://colab.research.google.com/assets/colab-badge.svg\" alt=\"Open In Colab\"/></a>"
      ]
    },
    {
      "cell_type": "code",
      "execution_count": null,
      "metadata": {
        "id": "uTAVJhp7IOGd"
      },
      "outputs": [],
      "source": []
    },
    {
      "cell_type": "markdown",
      "source": [
        "# TENSORS\n",
        "\n",
        "\n",
        "*   A torch.\n",
        "*   Similar To Numpy Arrays, but full of things that make them work better on GPUS\n",
        "\n",
        "\n",
        "*   default data type of float 32\n",
        "*   More suitaable for deep learning than a Numpy array\n",
        "\n",
        "\n",
        "\n"
      ],
      "metadata": {
        "id": "VhWSSYL6ITOC"
      }
    },
    {
      "cell_type": "code",
      "source": [
        "import torch"
      ],
      "metadata": {
        "id": "Iacpf3J0IerA"
      },
      "execution_count": 1,
      "outputs": []
    },
    {
      "cell_type": "code",
      "source": [
        "import  numpy as np"
      ],
      "metadata": {
        "id": "oDWSufn3JFs5"
      },
      "execution_count": 2,
      "outputs": []
    },
    {
      "cell_type": "markdown",
      "source": [
        "*LISTS"
      ],
      "metadata": {
        "id": "KLtd2bkQJLTj"
      }
    },
    {
      "cell_type": "code",
      "source": [
        "my_list = [[1,2,3,4,5],[6,7,8,9,10]]\n",
        "my_list"
      ],
      "metadata": {
        "colab": {
          "base_uri": "https://localhost:8080/"
        },
        "id": "_PS500g0JP6F",
        "outputId": "2f6f870e-5279-4e99-bc7f-e985f16fa89c"
      },
      "execution_count": 3,
      "outputs": [
        {
          "output_type": "execute_result",
          "data": {
            "text/plain": [
              "[[1, 2, 3, 4, 5], [6, 7, 8, 9, 10]]"
            ]
          },
          "metadata": {},
          "execution_count": 3
        }
      ]
    },
    {
      "cell_type": "markdown",
      "source": [
        " **NUMPY ARRAY**"
      ],
      "metadata": {
        "id": "_FyBpDaqJimG"
      }
    },
    {
      "cell_type": "code",
      "source": [
        "np1 = np.random.rand(3,4)\n",
        "np1"
      ],
      "metadata": {
        "colab": {
          "base_uri": "https://localhost:8080/"
        },
        "id": "VinxF1fXJd33",
        "outputId": "03962dc1-1375-436f-aecc-09db2593cc8a"
      },
      "execution_count": 5,
      "outputs": [
        {
          "output_type": "execute_result",
          "data": {
            "text/plain": [
              "array([[0.54202218, 0.75724098, 0.50496613, 0.38548902],\n",
              "       [0.79822299, 0.76240605, 0.29932873, 0.1406028 ],\n",
              "       [0.99932068, 0.51534999, 0.93043634, 0.50246719]])"
            ]
          },
          "metadata": {},
          "execution_count": 5
        }
      ]
    },
    {
      "cell_type": "code",
      "source": [
        "np1.dtype"
      ],
      "metadata": {
        "colab": {
          "base_uri": "https://localhost:8080/"
        },
        "id": "5fX276zBJ4Yb",
        "outputId": "7b5c88b4-1994-4938-ab3a-f9f7b28383a3"
      },
      "execution_count": 6,
      "outputs": [
        {
          "output_type": "execute_result",
          "data": {
            "text/plain": [
              "dtype('float64')"
            ]
          },
          "metadata": {},
          "execution_count": 6
        }
      ]
    },
    {
      "cell_type": "markdown",
      "source": [
        "***TENSORS***"
      ],
      "metadata": {
        "id": "J6xxBhX1KH46"
      }
    },
    {
      "cell_type": "code",
      "source": [
        "tensor_2d = torch.randn(3,4)\n",
        "tensor_2d"
      ],
      "metadata": {
        "colab": {
          "base_uri": "https://localhost:8080/"
        },
        "id": "LtVpYYsAKGFR",
        "outputId": "46976367-a5d4-49ed-f863-a1606449f969"
      },
      "execution_count": 7,
      "outputs": [
        {
          "output_type": "execute_result",
          "data": {
            "text/plain": [
              "tensor([[-0.0586, -0.8871, -0.8037, -0.5363],\n",
              "        [ 0.2028, -0.2915, -0.7898, -1.7649],\n",
              "        [-1.5774, -0.0343, -1.7209, -1.0426]])"
            ]
          },
          "metadata": {},
          "execution_count": 7
        }
      ]
    },
    {
      "cell_type": "code",
      "source": [
        "tensor_3d = torch.zeros(2,3,4)\n",
        "tensor_3d"
      ],
      "metadata": {
        "colab": {
          "base_uri": "https://localhost:8080/"
        },
        "id": "8ZQfMtIWKfUV",
        "outputId": "94e1f00f-66d7-4553-c4a7-f01bcb8cba18"
      },
      "execution_count": 8,
      "outputs": [
        {
          "output_type": "execute_result",
          "data": {
            "text/plain": [
              "tensor([[[0., 0., 0., 0.],\n",
              "         [0., 0., 0., 0.],\n",
              "         [0., 0., 0., 0.]],\n",
              "\n",
              "        [[0., 0., 0., 0.],\n",
              "         [0., 0., 0., 0.],\n",
              "         [0., 0., 0., 0.]]])"
            ]
          },
          "metadata": {},
          "execution_count": 8
        }
      ]
    },
    {
      "cell_type": "code",
      "source": [
        "## Create tensor out of numpy array\n",
        "my_tensor = torch.tensor(np1)\n",
        "my_tensor"
      ],
      "metadata": {
        "colab": {
          "base_uri": "https://localhost:8080/"
        },
        "id": "OQJiPMy1K1x3",
        "outputId": "241fd74d-04ef-4a35-8a21-8112051f503b"
      },
      "execution_count": 9,
      "outputs": [
        {
          "output_type": "execute_result",
          "data": {
            "text/plain": [
              "tensor([[0.5420, 0.7572, 0.5050, 0.3855],\n",
              "        [0.7982, 0.7624, 0.2993, 0.1406],\n",
              "        [0.9993, 0.5153, 0.9304, 0.5025]], dtype=torch.float64)"
            ]
          },
          "metadata": {},
          "execution_count": 9
        }
      ]
    },
    {
      "cell_type": "code",
      "source": [],
      "metadata": {
        "id": "s_CIqOHnLHt1"
      },
      "execution_count": null,
      "outputs": []
    }
  ]
}